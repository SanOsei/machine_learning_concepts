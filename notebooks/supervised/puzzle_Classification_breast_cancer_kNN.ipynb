{
  "nbformat": 4,
  "nbformat_minor": 0,
  "metadata": {
    "colab": {
      "provenance": [],
      "include_colab_link": true
    },
    "kernelspec": {
      "name": "python3",
      "display_name": "Python 3"
    },
    "language_info": {
      "name": "python"
    }
  },
  "cells": [
    {
      "cell_type": "markdown",
      "metadata": {
        "id": "view-in-github",
        "colab_type": "text"
      },
      "source": [
        "<a href=\"https://colab.research.google.com/github/mdkamrulhasan/machine_learning_concepts/blob/master/notebooks/supervised/puzzle_Classification_breast_cancer_kNN.ipynb\" target=\"_parent\"><img src=\"https://colab.research.google.com/assets/colab-badge.svg\" alt=\"Open In Colab\"/></a>"
      ]
    },
    {
      "cell_type": "markdown",
      "source": [
        "# Solve the Puzzle (building a Classification pipline).\n",
        "\n",
        "## **Insructions:**\n",
        "\n",
        "*   The code below woudn't run as the code is not ordered properly.\n",
        "*   You have to order the cells so we have a end-to-end classification model pipeline.\n",
        "*   Put descriptive comment a the first line of each cell.\n",
        "*   For example, the fourth cell should come at the beginning of your notebook, therefore we ranked it as (1.) and we added \"loading packages\" as it's corresponding comment.\n",
        "\n"
      ],
      "metadata": {
        "id": "HArOa7g7rqEh"
      }
    },
    {
      "cell_type": "code",
      "source": [
        "# ?? (Add a comment explaining the functionality of the code in this cell.)\n",
        "TEST_PROP, RANDOM_SEED = 0.5, 0\n",
        "X_train, X_test, y_train, y_test = train_test_split(\n",
        "    X, y, test_size=TEST_PROP, random_state=RANDOM_SEED)"
      ],
      "metadata": {
        "id": "L33M3rhVrEVK"
      },
      "execution_count": null,
      "outputs": []
    },
    {
      "cell_type": "code",
      "source": [
        "# ?? (Add a comment explaining the functionality of the code in this cell.)\n",
        "feature_scaler = MinMaxScaler()\n",
        "X = feature_scaler.fit_transform(X)"
      ],
      "metadata": {
        "id": "kOLueqsnmQ5g"
      },
      "execution_count": null,
      "outputs": []
    },
    {
      "cell_type": "code",
      "source": [
        "# ?? (Add a comment explaining the functionality of the code in this cell.)\n",
        "df = datasets.load_breast_cancer(as_frame=True)\n",
        "features_df, labels_df = df.data, df.target\n",
        "X, y = features_df.values, labels_df.values"
      ],
      "metadata": {
        "id": "__XxItRarH2i"
      },
      "execution_count": null,
      "outputs": []
    },
    {
      "cell_type": "code",
      "source": [
        "# 1. loading packages\n",
        "from sklearn import datasets\n",
        "from sklearn.datasets import load_breast_cancer\n",
        "import pandas as pd\n",
        "from sklearn.neighbors import KNeighborsClassifier\n",
        "from sklearn.model_selection import train_test_split\n",
        "from sklearn.metrics import accuracy_score\n",
        "from sklearn.preprocessing import MinMaxScaler, StandardScaler\n",
        "import plotly.express as px\n",
        "import plotly.graph_objects as go"
      ],
      "metadata": {
        "id": "V3QV4gKdq4iW"
      },
      "execution_count": null,
      "outputs": []
    },
    {
      "cell_type": "code",
      "source": [
        "# ?? (Add a comment explaining the functionality of the code in this cell.)\n",
        "y_pred = clf.predict(X_train)\n",
        "acc_train = accuracy_score(y_train, y_pred)\n",
        "print(\"accuracy score (training data): %.2f\" % acc_train)\n",
        "y_pred = clf.predict(X_test)\n",
        "acc_test = accuracy_score(y_test, y_pred)\n",
        "print(\"accuracy_score (test data): %.2f\" % acc_test)"
      ],
      "metadata": {
        "colab": {
          "base_uri": "https://localhost:8080/"
        },
        "id": "z3ryIdCErq0R",
        "outputId": "21d45d08-0628-45b1-e395-c615f3c3fa30"
      },
      "execution_count": null,
      "outputs": [
        {
          "output_type": "stream",
          "name": "stdout",
          "text": [
            "accuracy score (training data): 0.97\n",
            "accuracy_score (test data): 0.96\n"
          ]
        }
      ]
    },
    {
      "cell_type": "code",
      "source": [
        "# ?? (Add a comment explaining the functionality of the code in this cell.)\n",
        "clf = KNeighborsClassifier()\n",
        "clf.fit(X_train, y_train)"
      ],
      "metadata": {
        "id": "QI541OUwq6v-"
      },
      "execution_count": null,
      "outputs": []
    }
  ]
}