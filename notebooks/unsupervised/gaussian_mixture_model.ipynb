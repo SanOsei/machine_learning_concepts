{
  "nbformat": 4,
  "nbformat_minor": 0,
  "metadata": {
    "colab": {
      "provenance": []
    },
    "kernelspec": {
      "name": "python3",
      "display_name": "Python 3"
    },
    "language_info": {
      "name": "python"
    }
  },
  "cells": [
    {
      "cell_type": "code",
      "source": [
        "import matplotlib.pyplot as plt\n",
        "import numpy as np\n",
        "import random\n",
        "from sklearn.mixture import GaussianMixture"
      ],
      "metadata": {
        "id": "sVCIBh7OmiU6"
      },
      "execution_count": null,
      "outputs": []
    },
    {
      "cell_type": "code",
      "source": [
        "def draw_pdf(x, c):\n",
        "  y = ((1 / (np.sqrt(2 * np.pi) * c['std'])) *\n",
        "     np.exp(-0.5 * (1 / c['std'] * (x - c['mean']))**2))\n",
        "  \n",
        "  plt.plot(np.arange(0, 2, 2/len(y)), y, '--', color ='black', \\\n",
        "           label=\"mu:{}, std:{}\".format(c['mean'], c['std']))"
      ],
      "metadata": {
        "id": "UPdytqC8Nkdl"
      },
      "execution_count": null,
      "outputs": []
    },
    {
      "cell_type": "markdown",
      "source": [
        "## Modelling the heights (in Meters) of students in a school\n",
        "(Note: we only consider population from the following grades)\n",
        "\n",
        "\n",
        "1.   Grade 5\n",
        "2.   Grade 6, and \n",
        "3.   Grade 10 "
      ],
      "metadata": {
        "id": "Smg-srnV8e0I"
      }
    },
    {
      "cell_type": "markdown",
      "source": [
        "### Data sampling by initializing parameters"
      ],
      "metadata": {
        "id": "0RB405dK9tnd"
      }
    },
    {
      "cell_type": "code",
      "source": [
        "# grade 5\n",
        "c5 = {'mean': 1.05, 'std': 0.06}\n",
        "# grade 6\n",
        "c6 = {'mean': 1.3, 'std': 0.07}\n",
        "# grade 10\n",
        "c10 = {'mean': 1.6, 'std': 0.06}"
      ],
      "metadata": {
        "id": "MGatqEJGHq0G"
      },
      "execution_count": null,
      "outputs": []
    },
    {
      "cell_type": "code",
      "source": [
        "samples_per_g = 100000\n",
        "g1 = np.random.normal(c5['mean'], c5['std'], samples_per_g)\n",
        "g2 = np.random.normal(c6['mean'], c6['std'], samples_per_g)\n",
        "g3 = np.random.normal(c10['mean'], c10['std'], samples_per_g)"
      ],
      "metadata": {
        "id": "xDegbAx4iNa1"
      },
      "execution_count": null,
      "outputs": []
    },
    {
      "cell_type": "markdown",
      "source": [
        "### Concatenate data  into a single array"
      ],
      "metadata": {
        "id": "WYHpAMrn_Ajb"
      }
    },
    {
      "cell_type": "code",
      "source": [
        "gs = np.concatenate([g1, g2, g3], axis=0)\n",
        "gs.shape"
      ],
      "metadata": {
        "colab": {
          "base_uri": "https://localhost:8080/"
        },
        "id": "V4CXgqdc--Iv",
        "outputId": "d696286b-f548-4307-d985-add40c0630b5"
      },
      "execution_count": null,
      "outputs": [
        {
          "output_type": "execute_result",
          "data": {
            "text/plain": [
              "(300000,)"
            ]
          },
          "metadata": {},
          "execution_count": 7
        }
      ]
    },
    {
      "cell_type": "markdown",
      "source": [
        "### Display distributions"
      ],
      "metadata": {
        "id": "TfSEqFvUGRIT"
      }
    },
    {
      "cell_type": "code",
      "source": [
        "count, bins, ignored = plt.hist(gs, 100, density=True)"
      ],
      "metadata": {
        "colab": {
          "base_uri": "https://localhost:8080/",
          "height": 265
        },
        "id": "I4CorlvqIcpM",
        "outputId": "1a7352fc-4018-4b16-d90b-603325ead5ad"
      },
      "execution_count": null,
      "outputs": [
        {
          "output_type": "display_data",
          "data": {
            "image/png": "[encoded data removed]",
            "text/plain": [
              "<Figure size 432x288 with 1 Axes>"
            ]
          },
          "metadata": {
            "needs_background": "light"
          }
        }
      ]
    },
    {
      "cell_type": "code",
      "source": [
        "x = np.arange(0.5, 1.8, 0.01)\n",
        "draw_pdf(x, c5)\n",
        "draw_pdf(x, c6)\n",
        "draw_pdf(x, c10)\n",
        "plt.legend()"
      ],
      "metadata": {
        "colab": {
          "base_uri": "https://localhost:8080/",
          "height": 283
        },
        "id": "uIfhQBISJFYb",
        "outputId": "f186b846-4424-4935-bb6d-af0bc1bb5c89"
      },
      "execution_count": null,
      "outputs": [
        {
          "output_type": "execute_result",
          "data": {
            "text/plain": [
              "<matplotlib.legend.Legend at 0x7f172e84cb90>"
            ]
          },
          "metadata": {},
          "execution_count": 9
        },
        {
          "output_type": "display_data",
          "data": {
            "image/png": "[encoded data removed]",
            "text/plain": [
              "<Figure size 432x288 with 1 Axes>"
            ]
          },
          "metadata": {
            "needs_background": "light"
          }
        }
      ]
    },
    {
      "cell_type": "markdown",
      "source": [
        "### Lets run GMM on this data\n",
        "\n",
        "\n",
        "*  Remember, we are only passing our data array here\n",
        "*  No other info (such as the parameters that we used to generate our data)\n",
        "\n"
      ],
      "metadata": {
        "id": "VfBemU2Em6pW"
      }
    },
    {
      "cell_type": "code",
      "source": [
        "# shuffling to change the order in our data\n",
        "random.shuffle(gs)"
      ],
      "metadata": {
        "id": "UY5i8RjZGzhB"
      },
      "execution_count": null,
      "outputs": []
    },
    {
      "cell_type": "code",
      "source": [
        "gm = GaussianMixture(n_components=3, random_state=0)\n",
        "gm.fit(gs.reshape((len(gs), 1)))"
      ],
      "metadata": {
        "colab": {
          "base_uri": "https://localhost:8080/"
        },
        "id": "yTu26qsWmGpj",
        "outputId": "8af7a70f-bd7e-4229-f5ee-e82c5c882cc8"
      },
      "execution_count": null,
      "outputs": [
        {
          "output_type": "execute_result",
          "data": {
            "text/plain": [
              "GaussianMixture(n_components=3, random_state=0)"
            ]
          },
          "metadata": {},
          "execution_count": 11
        }
      ]
    },
    {
      "cell_type": "code",
      "source": [
        "# display the mean\n",
        "gm.means_"
      ],
      "metadata": {
        "colab": {
          "base_uri": "https://localhost:8080/"
        },
        "id": "gn0s66UnIFb6",
        "outputId": "276ad831-34d9-4936-b190-eedfb70933c5"
      },
      "execution_count": null,
      "outputs": [
        {
          "output_type": "execute_result",
          "data": {
            "text/plain": [
              "array([[1.5994892 ],\n",
              "       [1.05111166],\n",
              "       [1.30084541]])"
            ]
          },
          "metadata": {},
          "execution_count": 12
        }
      ]
    },
    {
      "cell_type": "code",
      "source": [
        "# the covariance\n",
        "np.sqrt(gm.covariances_)"
      ],
      "metadata": {
        "colab": {
          "base_uri": "https://localhost:8080/"
        },
        "id": "WgNRSk_ZILoN",
        "outputId": "61c0dadf-8888-4019-a1ff-12d9ba51fbce"
      },
      "execution_count": null,
      "outputs": [
        {
          "output_type": "execute_result",
          "data": {
            "text/plain": [
              "array([[[0.06080563]],\n",
              "\n",
              "       [[0.0612551 ]],\n",
              "\n",
              "       [[0.06728971]]])"
            ]
          },
          "metadata": {},
          "execution_count": 13
        }
      ]
    },
    {
      "cell_type": "markdown",
      "source": [
        "### Run some queries"
      ],
      "metadata": {
        "id": "8tCc-MyxIVVk"
      }
    },
    {
      "cell_type": "code",
      "source": [
        "query_value = 0.9\n",
        "gm.predict([[query_value]]), gm.predict_proba([[query_value]])"
      ],
      "metadata": {
        "colab": {
          "base_uri": "https://localhost:8080/"
        },
        "id": "AX5A4yziIlZ8",
        "outputId": "f96b3acb-1df9-4e30-9a59-c19c737e8e5d"
      },
      "execution_count": null,
      "outputs": [
        {
          "output_type": "execute_result",
          "data": {
            "text/plain": [
              "(array([1]), array([[3.84402411e-28, 9.99999636e-01, 3.64215292e-07]]))"
            ]
          },
          "metadata": {},
          "execution_count": 14
        }
      ]
    },
    {
      "cell_type": "code",
      "source": [
        "query_value = 1.2\n",
        "gm.predict([[query_value]]), gm.predict_proba([[query_value]])"
      ],
      "metadata": {
        "colab": {
          "base_uri": "https://localhost:8080/"
        },
        "id": "lbLMpZuAIrPo",
        "outputId": "80412eb4-f984-4873-fbdc-db3edba42c86"
      },
      "execution_count": null,
      "outputs": [
        {
          "output_type": "execute_result",
          "data": {
            "text/plain": [
              "(array([2]), array([[1.24787998e-09, 1.53739807e-01, 8.46260192e-01]]))"
            ]
          },
          "metadata": {},
          "execution_count": 15
        }
      ]
    },
    {
      "cell_type": "code",
      "source": [
        "query_value = 1.7\n",
        "gm.predict([[query_value]]), gm.predict_proba([[query_value]])"
      ],
      "metadata": {
        "colab": {
          "base_uri": "https://localhost:8080/"
        },
        "id": "uinI9vJynMU3",
        "outputId": "106ae3c0-d31d-4055-83f3-ec55f2b64e4e"
      },
      "execution_count": null,
      "outputs": [
        {
          "output_type": "execute_result",
          "data": {
            "text/plain": [
              "(array([0]), array([[9.99999921e-01, 1.68439018e-24, 7.91779807e-08]]))"
            ]
          },
          "metadata": {},
          "execution_count": 16
        }
      ]
    },
    {
      "cell_type": "markdown",
      "source": [
        "## 2D - case"
      ],
      "metadata": {
        "id": "wA7KrYDBJhLs"
      }
    },
    {
      "cell_type": "code",
      "source": [
        "# parameter initialization\n",
        "c21 = {'mean': np.array([1.0, 1.0]), 'cov': np.array([[0.5, 0], [0, 0.25]])}\n",
        "c22 = {'mean': np.array([4.0, 4.0]), 'cov': np.array([[0.15, 0], [0, 0.5]])}"
      ],
      "metadata": {
        "id": "pXK7dQOCMHLr"
      },
      "execution_count": null,
      "outputs": []
    },
    {
      "cell_type": "code",
      "source": [
        "# sampling\n",
        "n = 1000\n",
        "d12 = np.random.multivariate_normal(c21['mean'], c21['cov'], n)\n",
        "d22 = np.random.multivariate_normal(c22['mean'], c22['cov'], n)\n",
        "d2d = np.concatenate([d12, d22], axis=0)\n",
        "d2d.shape"
      ],
      "metadata": {
        "colab": {
          "base_uri": "https://localhost:8080/"
        },
        "id": "pJLZjsoUMzBH",
        "outputId": "2a8177d6-6f33-4bc9-dfb5-3479d2abb7fe"
      },
      "execution_count": null,
      "outputs": [
        {
          "output_type": "execute_result",
          "data": {
            "text/plain": [
              "(2000, 2)"
            ]
          },
          "metadata": {},
          "execution_count": 20
        }
      ]
    },
    {
      "cell_type": "code",
      "source": [
        "# model fitting\n",
        "gm2d = GaussianMixture(n_components=2, random_state=0)\n",
        "gm2d.fit(d2d)"
      ],
      "metadata": {
        "colab": {
          "base_uri": "https://localhost:8080/"
        },
        "id": "UM-ZE3p4NYeX",
        "outputId": "81176059-a930-4608-c8e0-ce3cd288dde0"
      },
      "execution_count": null,
      "outputs": [
        {
          "output_type": "execute_result",
          "data": {
            "text/plain": [
              "GaussianMixture(n_components=2, random_state=0)"
            ]
          },
          "metadata": {},
          "execution_count": 21
        }
      ]
    },
    {
      "cell_type": "code",
      "source": [
        "# display the mean\n",
        "gm2d.means_"
      ],
      "metadata": {
        "colab": {
          "base_uri": "https://localhost:8080/"
        },
        "id": "O_DTYVU8Nkum",
        "outputId": "8926d1dc-6151-42b7-e81d-50b89f6220ec"
      },
      "execution_count": null,
      "outputs": [
        {
          "output_type": "execute_result",
          "data": {
            "text/plain": [
              "array([[0.96073292, 1.00252998],\n",
              "       [3.98579479, 4.00152191]])"
            ]
          },
          "metadata": {},
          "execution_count": 22
        }
      ]
    },
    {
      "cell_type": "code",
      "source": [
        "# the covariance\n",
        "gm2d.covariances_"
      ],
      "metadata": {
        "colab": {
          "base_uri": "https://localhost:8080/"
        },
        "id": "Fl38xAeQNwFR",
        "outputId": "b2500c25-0223-456b-b237-e79b32937347"
      },
      "execution_count": null,
      "outputs": [
        {
          "output_type": "execute_result",
          "data": {
            "text/plain": [
              "array([[[0.53083182, 0.01271364],\n",
              "        [0.01271364, 0.27717312]],\n",
              "\n",
              "       [[0.15261928, 0.00465289],\n",
              "        [0.00465289, 0.50567077]]])"
            ]
          },
          "metadata": {},
          "execution_count": 23
        }
      ]
    },
    {
      "cell_type": "code",
      "source": [
        "# scatter plot\n",
        "plt.scatter(d2d[:, 0], d2d[:, 1], marker=\".\")"
      ],
      "metadata": {
        "colab": {
          "base_uri": "https://localhost:8080/",
          "height": 283
        },
        "id": "wGsIejEnN5ze",
        "outputId": "82737000-f375-49e8-9f2c-caa831a4df32"
      },
      "execution_count": null,
      "outputs": [
        {
          "output_type": "execute_result",
          "data": {
            "text/plain": [
              "<matplotlib.collections.PathCollection at 0x7f1729f55fd0>"
            ]
          },
          "metadata": {},
          "execution_count": 24
        },
        {
          "output_type": "display_data",
          "data": {
            "image/png": "[encoded data removed]",
            "text/plain": [
              "<Figure size 432x288 with 1 Axes>"
            ]
          },
          "metadata": {
            "needs_background": "light"
          }
        }
      ]
    },
    {
      "cell_type": "code",
      "source": [],
      "metadata": {
        "id": "gLLI1Xdr3aU2"
      },
      "execution_count": null,
      "outputs": []
    }
  ]
}